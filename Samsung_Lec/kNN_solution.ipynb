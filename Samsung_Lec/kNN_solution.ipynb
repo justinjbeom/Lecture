{
 "cells": [
  {
   "cell_type": "code",
   "execution_count": 3,
   "metadata": {
    "collapsed": true
   },
   "outputs": [],
   "source": [
    "import csv\n",
    "import pandas as pd\n",
    "import numpy as np\n",
    "import matplotlib.pyplot as plt\n",
    "import math\n",
    "import csv\n",
    "import random\n",
    "from sklearn.model_selection import train_test_split\n",
    "import operator\n"
   ]
  },
  {
   "cell_type": "code",
   "execution_count": 4,
   "metadata": {
    "collapsed": true
   },
   "outputs": [],
   "source": [
    "def loadDataset(filename):\n",
    "    data=pd.read_csv(filename)\n",
    "    trainingSet, testSet = train_test_split(data, test_size = 0.25, random_state = 3)\n",
    "    return trainingSet.values.tolist(), testSet.values.tolist()"
   ]
  },
  {
   "cell_type": "code",
   "execution_count": 5,
   "metadata": {
    "collapsed": true,
    "scrolled": true
   },
   "outputs": [],
   "source": [
    "def euclideanDistance(instance1, instance2): \n",
    "    distance=0\n",
    "    for i in range(len(instance1)-1): #loop for each feature \n",
    "        distance+=pow((instance1[i]-instance2[i]),2)\n",
    "    distance=math.sqrt(distance)\n",
    "    return distance"
   ]
  },
  {
   "cell_type": "code",
   "execution_count": 6,
   "metadata": {},
   "outputs": [
    {
     "name": "stdout",
     "output_type": "stream",
     "text": [
      "Function value:  4.646504062195578\n",
      "Correct answer:  4.646504062195578\n"
     ]
    }
   ],
   "source": [
    "## test for eucldieanDistance function\n",
    "instance1=[4.6, 3.2, 1.4, 0.2, 'Setosa']\n",
    "instance2=[6.4, 2.7, 5.3, 1.9, 'Virginica']\n",
    "value=euclideanDistance(instance1, instance2)\n",
    "print('Function value: ',value)\n",
    "print('Correct answer: ',4.646504062195578)\n",
    "\n",
    "\n",
    "\n",
    "\n",
    "\n",
    "\n"
   ]
  },
  {
   "cell_type": "code",
   "execution_count": 15,
   "metadata": {
    "collapsed": true
   },
   "outputs": [],
   "source": [
    "def getNeighbors(trainingSet, testInstance, k):\n",
    "    neighbors=[]\n",
    "    distances=[]\n",
    "    for i in range(len(trainingSet)):\n",
    "        dist=euclideanDistance(testInstance, trainingSet[i])\n",
    "        distances.append((trainingSet[i],dist)) #tuple\n",
    "    distances.sort(key=operator.itemgetter(1))\n",
    "    for i in range(k):\n",
    "        neighbors.append(distances[i][0]) \n",
    "    return neighbors"
   ]
  },
  {
   "cell_type": "code",
   "execution_count": 10,
   "metadata": {},
   "outputs": [
    {
     "name": "stdout",
     "output_type": "stream",
     "text": [
      "Function value:  [[4.7, 3.2, 1.3, 0.2, 'Setosa'], [4.7, 3.2, 1.6, 0.2, 'Setosa'], [4.8, 3.0, 1.4, 0.3, 'Setosa']]\n",
      "Correct answer:  [[4.7, 3.2, 1.3, 0.2, 'Setosa'], [4.7, 3.2, 1.6, 0.2, 'Setosa'], [4.8, 3.0, 1.4, 0.3, 'Setosa']]\n"
     ]
    }
   ],
   "source": [
    "## test for getNeighbors function\n",
    "\n",
    "trainingSet, testSet=loadDataset('iris.csv')\n",
    "testInstance=[4.6, 3.2, 1.4, 0.2, 'Setosa']\n",
    "k=3\n",
    "value=getNeighbors(trainingSet,testInstance,k)\n",
    "print('Function value: ',value)\n",
    "print('Correct answer: ',[[4.7, 3.2, 1.3, 0.2, 'Setosa'], [4.7, 3.2, 1.6, 0.2, 'Setosa'], [4.8, 3.0, 1.4, 0.3, 'Setosa']])\n",
    "\n"
   ]
  },
  {
   "cell_type": "code",
   "execution_count": 17,
   "metadata": {
    "collapsed": true
   },
   "outputs": [],
   "source": [
    "def getResponse(neighbors):\n",
    "    classVotes = {} #dict\n",
    "    for i in range(len(neighbors)):\n",
    "        response = neighbors[i][-1]\n",
    "        if response in classVotes:\n",
    "            classVotes[response] += 1\n",
    "        else:\n",
    "            classVotes[response] = 1\n",
    "    sortedVotes = sorted(classVotes.items(), key=operator.itemgetter(1), reverse=True)\n",
    "    return sortedVotes[0][0]\n",
    " "
   ]
  },
  {
   "cell_type": "code",
   "execution_count": 18,
   "metadata": {},
   "outputs": [
    {
     "name": "stdout",
     "output_type": "stream",
     "text": [
      "Function value: Virginica\n",
      "Correct answer: Virginica\n"
     ]
    }
   ],
   "source": [
    "## test for getResponse function\n",
    "neighbors=[[6.9, 3.1, 4.9, 1.5, 'Versicolor'], [6.5, 3.0, 5.2, 2.0, 'Virginica'], [6.5, 3.2, 5.1, 2.0, 'Virginica']]\n",
    "value=getResponse(neighbors)\n",
    "print('Function value:',value)\n",
    "print('Correct answer: Virginica')\n",
    "\n"
   ]
  },
  {
   "cell_type": "code",
   "execution_count": 19,
   "metadata": {
    "collapsed": true
   },
   "outputs": [],
   "source": [
    "def getAccuracy(testSet, predictions):\n",
    "    correct = 0\n",
    "    for x in range(len(testSet)):\n",
    "        if testSet[x][-1] == predictions[x]:\n",
    "            correct += 1\n",
    "    return (correct/float(len(testSet))) * 100.0"
   ]
  },
  {
   "cell_type": "code",
   "execution_count": 20,
   "metadata": {},
   "outputs": [
    {
     "name": "stdout",
     "output_type": "stream",
     "text": [
      "Train set:  112\n",
      "Test set:  38\n",
      "> predicted='Setosa', actual='Setosa'\n",
      "> predicted='Setosa', actual='Setosa'\n",
      "> predicted='Setosa', actual='Setosa'\n",
      "> predicted='Setosa', actual='Setosa'\n",
      "> predicted='Setosa', actual='Setosa'\n",
      "> predicted='Virginica', actual='Virginica'\n",
      "> predicted='Versicolor', actual='Versicolor'\n",
      "> predicted='Setosa', actual='Setosa'\n",
      "> predicted='Virginica', actual='Virginica'\n",
      "> predicted='Versicolor', actual='Versicolor'\n",
      "> predicted='Versicolor', actual='Versicolor'\n",
      "> predicted='Setosa', actual='Setosa'\n",
      "> predicted='Versicolor', actual='Versicolor'\n",
      "> predicted='Versicolor', actual='Versicolor'\n",
      "> predicted='Virginica', actual='Virginica'\n",
      "> predicted='Setosa', actual='Setosa'\n",
      "> predicted='Virginica', actual='Versicolor'\n",
      "> predicted='Virginica', actual='Virginica'\n",
      "> predicted='Virginica', actual='Virginica'\n",
      "> predicted='Setosa', actual='Setosa'\n",
      "> predicted='Virginica', actual='Virginica'\n",
      "> predicted='Virginica', actual='Virginica'\n",
      "> predicted='Virginica', actual='Virginica'\n",
      "> predicted='Versicolor', actual='Versicolor'\n",
      "> predicted='Setosa', actual='Setosa'\n",
      "> predicted='Virginica', actual='Virginica'\n",
      "> predicted='Virginica', actual='Virginica'\n",
      "> predicted='Versicolor', actual='Versicolor'\n",
      "> predicted='Versicolor', actual='Versicolor'\n",
      "> predicted='Versicolor', actual='Versicolor'\n",
      "> predicted='Setosa', actual='Setosa'\n",
      "> predicted='Setosa', actual='Setosa'\n",
      "> predicted='Virginica', actual='Virginica'\n",
      "> predicted='Versicolor', actual='Versicolor'\n",
      "> predicted='Setosa', actual='Setosa'\n",
      "> predicted='Setosa', actual='Setosa'\n",
      "> predicted='Virginica', actual='Versicolor'\n",
      "> predicted='Setosa', actual='Setosa'\n",
      "Accuracy: 94.73684210526315%\n"
     ]
    }
   ],
   "source": [
    "def main():\n",
    "    trainingSet, testSet=loadDataset('iris.csv')\n",
    "    print ('Train set: ',len(trainingSet))\n",
    "    print ('Test set: ',len(testSet))\n",
    "    # generate predictions\n",
    "    predictions=[]\n",
    "    k=3\n",
    "    for x in range(len(testSet)):\n",
    "        neighbors = getNeighbors(trainingSet, testSet[x], k)\n",
    "        result = getResponse(neighbors)\n",
    "        predictions.append(result)\n",
    "        print('> predicted=' + repr(result) + ', actual=' + repr(testSet[x][-1]))\n",
    "    accuracy = getAccuracy(testSet, predictions)\n",
    "    print('Accuracy: ' + repr(accuracy) + '%')\n",
    "    \n",
    "main()"
   ]
  },
  {
   "cell_type": "markdown",
   "metadata": {},
   "source": [
    "For regression"
   ]
  },
  {
   "cell_type": "code",
   "execution_count": 21,
   "metadata": {
    "collapsed": true
   },
   "outputs": [],
   "source": [
    "import csv\n",
    "import random\n",
    "from sklearn.preprocessing import MinMaxScaler\n",
    "from sklearn.preprocessing import StandardScaler\n",
    "\n",
    "\n",
    "def loadDataset(filename):\n",
    "    df = pd.read_csv(filename, index_col=0)\n",
    "    input_features=['Age','Income','Limit','Cards','Student','Education']\n",
    "    target_feature=['Balance']\n",
    "    df_input=df[input_features+target_feature]\n",
    "    \n",
    "    \n",
    "###Categorical to dummy    \n",
    "    df_input['Student'].replace('Yes',1,inplace=True)\n",
    "    df_input['Student'].replace('No',0,inplace=True)\n",
    "    \n",
    "    \n",
    "    train=df_input.sample(frac=0.75,random_state=3) #split into train and test\n",
    "    test=df_input.drop(train.index)\n",
    "    trainingSet=train.values.tolist()\n",
    "    testSet=test.values.tolist()\n",
    "    return trainingSet, testSet\n",
    "\n",
    "def euclideanDistance(instance1, instance2): \n",
    "    distance=0\n",
    "    for i in range(len(instance1)-1): #loop for each feature \n",
    "        distance+=pow((instance1[i]-instance2[i]),2)\n",
    "    distance=math.sqrt(distance)\n",
    "    return distance\n",
    "\n",
    "import operator\n",
    "def getNeighbors(trainingSet, testInstance, k):\n",
    "    neighbors=[]\n",
    "    distances=[]\n",
    "    for i in range(len(trainingSet)):\n",
    "        dist=euclideanDistance(testInstance, trainingSet[i])\n",
    "        distances.append((trainingSet[i],dist)) \n",
    "    distances.sort(key=operator.itemgetter(1))\n",
    "    for i in range(k):\n",
    "        neighbors.append(distances[i][0]) \n",
    "    return neighbors\n",
    "\n",
    "def getResponse(neighbors):\n",
    "    values=np.array(neighbors)[:,-1]\n",
    "    mean=np.average(values)\n",
    "    return mean\n",
    "\n",
    "def getAccuracy(testSet, predictions):\n",
    "    accuracy=np.sqrt(np.average((np.array(testSet)[:,-1]-np.array(predictions))**2))\n",
    "    print('test plot')\n",
    "    plt.plot(np.array(testSet)[:,-1], np.array(predictions),  'ro', label='test set')\n",
    "    plt.plot(np.array(testSet)[:,-1], np.array(testSet)[:,-1], label='standard line')\n",
    "    plt.xlabel(\"Target\")\n",
    "    plt.ylabel(\"Output\")\n",
    "    plt.legend()\n",
    "    plt.show()\n",
    "    return accuracy\n"
   ]
  },
  {
   "cell_type": "code",
   "execution_count": 22,
   "metadata": {},
   "outputs": [
    {
     "name": "stdout",
     "output_type": "stream",
     "text": [
      "Train set: 300\n",
      "Test set: 100\n",
      "> predicted=275.3333333333333, actual=333.0\n",
      "> predicted=743.6666666666666, actual=903.0\n",
      "> predicted=764.3333333333334, actual=580.0\n",
      "> predicted=764.3333333333334, actual=872.0\n",
      "> predicted=1207.0, actual=1350.0\n",
      "> predicted=138.33333333333334, actual=89.0\n",
      "> predicted=237.33333333333334, actual=654.0\n",
      "> predicted=1723.6666666666667, actual=1809.0\n",
      "> predicted=0.0, actual=0.0\n",
      "> predicted=924.3333333333334, actual=762.0\n",
      "> predicted=891.3333333333334, actual=1120.0\n",
      "> predicted=0.0, actual=0.0\n",
      "> predicted=707.3333333333334, actual=902.0\n",
      "> predicted=0.0, actual=0.0\n",
      "> predicted=1207.0, actual=1084.0\n",
      "> predicted=269.6666666666667, actual=532.0\n",
      "> predicted=733.3333333333334, actual=812.0\n",
      "> predicted=821.3333333333334, actual=937.0\n",
      "> predicted=177.66666666666666, actual=155.0\n",
      "> predicted=1314.3333333333333, actual=1311.0\n",
      "> predicted=658.3333333333334, actual=745.0\n",
      "> predicted=0.0, actual=0.0\n",
      "> predicted=275.6666666666667, actual=47.0\n",
      "> predicted=865.3333333333334, actual=768.0\n",
      "> predicted=974.0, actual=1341.0\n",
      "> predicted=0.0, actual=0.0\n",
      "> predicted=0.0, actual=0.0\n",
      "> predicted=238.33333333333334, actual=255.0\n",
      "> predicted=0.0, actual=0.0\n",
      "> predicted=0.0, actual=0.0\n",
      "> predicted=977.0, actual=605.0\n",
      "> predicted=0.0, actual=0.0\n",
      "> predicted=143.66666666666666, actual=0.0\n",
      "> predicted=1089.6666666666667, actual=581.0\n",
      "> predicted=0.0, actual=156.0\n",
      "> predicted=341.6666666666667, actual=429.0\n",
      "> predicted=778.0, actual=836.0\n",
      "> predicted=707.3333333333334, actual=570.0\n",
      "> predicted=0.0, actual=0.0\n",
      "> predicted=1211.0, actual=1099.0\n",
      "> predicted=308.0, actual=283.0\n",
      "> predicted=239.0, actual=108.0\n",
      "> predicted=1365.6666666666667, actual=1573.0\n",
      "> predicted=0.0, actual=0.0\n",
      "> predicted=793.6666666666666, actual=453.0\n",
      "> predicted=968.6666666666666, actual=789.0\n",
      "> predicted=366.6666666666667, actual=0.0\n",
      "> predicted=1589.6666666666667, actual=1448.0\n",
      "> predicted=317.3333333333333, actual=336.0\n",
      "> predicted=0.0, actual=0.0\n",
      "> predicted=143.66666666666666, actual=0.0\n",
      "> predicted=532.3333333333334, actual=230.0\n",
      "> predicted=301.0, actual=308.0\n",
      "> predicted=22.666666666666668, actual=52.0\n",
      "> predicted=511.0, actual=653.0\n",
      "> predicted=565.3333333333334, actual=573.0\n",
      "> predicted=820.0, actual=1032.0\n",
      "> predicted=545.3333333333334, actual=689.0\n",
      "> predicted=85.33333333333333, actual=191.0\n",
      "> predicted=1.6666666666666667, actual=16.0\n",
      "> predicted=0.0, actual=98.0\n",
      "> predicted=424.0, actual=218.0\n",
      "> predicted=0.0, actual=0.0\n",
      "> predicted=139.66666666666666, actual=0.0\n",
      "> predicted=958.6666666666666, actual=942.0\n",
      "> predicted=1033.0, actual=967.0\n",
      "> predicted=1281.3333333333333, actual=529.0\n",
      "> predicted=444.3333333333333, actual=531.0\n",
      "> predicted=65.0, actual=0.0\n",
      "> predicted=527.3333333333334, actual=485.0\n",
      "> predicted=1589.6666666666667, actual=1677.0\n",
      "> predicted=0.0, actual=0.0\n",
      "> predicted=684.3333333333334, actual=580.0\n",
      "> predicted=684.3333333333334, actual=681.0\n",
      "> predicted=824.6666666666666, actual=844.0\n",
      "> predicted=550.0, actual=823.0\n",
      "> predicted=527.3333333333334, actual=463.0\n",
      "> predicted=966.6666666666666, actual=1142.0\n",
      "> predicted=0.0, actual=0.0\n",
      "> predicted=295.3333333333333, actual=265.0\n",
      "> predicted=1376.6666666666667, actual=1361.0\n",
      "> predicted=317.3333333333333, actual=474.0\n",
      "> predicted=182.33333333333334, actual=194.0\n",
      "> predicted=800.3333333333334, actual=926.0\n",
      "> predicted=0.0, actual=0.0\n",
      "> predicted=433.6666666666667, actual=426.0\n",
      "> predicted=1042.3333333333333, actual=907.0\n",
      "> predicted=1365.6666666666667, actual=1192.0\n",
      "> predicted=418.6666666666667, actual=503.0\n",
      "> predicted=0.0, actual=0.0\n",
      "> predicted=1589.6666666666667, actual=1405.0\n",
      "> predicted=881.3333333333334, actual=962.0\n",
      "> predicted=800.3333333333334, actual=712.0\n",
      "> predicted=781.6666666666666, actual=710.0\n",
      "> predicted=1211.0, actual=578.0\n",
      "> predicted=629.3333333333334, actual=1264.0\n",
      "> predicted=1034.6666666666667, actual=345.0\n",
      "> predicted=983.3333333333334, actual=721.0\n",
      "> predicted=1095.6666666666667, actual=734.0\n",
      "> predicted=0.0, actual=0.0\n",
      "test plot\n"
     ]
    },
    {
     "name": "stderr",
     "output_type": "stream",
     "text": [
      "/home/osilab1/anaconda3/lib/python3.6/site-packages/pandas/core/generic.py:3924: SettingWithCopyWarning: \n",
      "A value is trying to be set on a copy of a slice from a DataFrame\n",
      "\n",
      "See the caveats in the documentation: http://pandas.pydata.org/pandas-docs/stable/indexing.html#indexing-view-versus-copy\n",
      "  self._update_inplace(new_data)\n"
     ]
    },
    {
     "data": {
      "image/png": "[encoded data removed]",
      "text/plain": [
       "<matplotlib.figure.Figure at 0x7f6d68795550>"
      ]
     },
     "metadata": {},
     "output_type": "display_data"
    },
    {
     "name": "stdout",
     "output_type": "stream",
     "text": [
      "Accuracy(RMSE): 204.33012776169625\n"
     ]
    }
   ],
   "source": [
    "def main():\n",
    "# prepare data\n",
    "    trainingSet,testSet=loadDataset('Credit.csv')\n",
    "    print ('Train set: ' + repr(len(trainingSet)))\n",
    "    print ('Test set: ' + repr(len(testSet)))\n",
    "    # generate predictions\n",
    "    predictions=[]\n",
    "    k=3\n",
    "    for x in range(len(testSet)):\n",
    "        neighbors = getNeighbors(trainingSet, testSet[x], k)\n",
    "        result = getResponse(neighbors)\n",
    "        predictions.append(result)\n",
    "        print('> predicted=' + repr(result) + ', actual=' + repr(testSet[x][-1]))\n",
    "    accuracy = getAccuracy(testSet, predictions)\n",
    "    print('Accuracy(RMSE): ' + repr(accuracy) )\n",
    "    \n",
    "main()"
   ]
  },
  {
   "cell_type": "code",
   "execution_count": null,
   "metadata": {
    "collapsed": true
   },
   "outputs": [],
   "source": []
  },
  {
   "cell_type": "code",
   "execution_count": null,
   "metadata": {
    "collapsed": true
   },
   "outputs": [],
   "source": [
    "##Standardization###    \n",
    "#     scaler = StandardScaler()\n",
    "#     scaler.fit(df_input[input_features])\n",
    "#     df_input[input_features]=scaler.transform(df_input[input_features])\n",
    "#     print(df_input)"
   ]
  }
 ],
 "metadata": {
  "kernelspec": {
   "display_name": "Python 3",
   "language": "python",
   "name": "python3"
  },
  "language_info": {
   "codemirror_mode": {
    "name": "ipython",
    "version": 3
   },
   "file_extension": ".py",
   "mimetype": "text/x-python",
   "name": "python",
   "nbconvert_exporter": "python",
   "pygments_lexer": "ipython3",
   "version": "3.6.8"
  }
 },
 "nbformat": 4,
 "nbformat_minor": 2
}
