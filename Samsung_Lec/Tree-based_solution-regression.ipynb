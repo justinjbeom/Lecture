{
 "cells": [
  {
   "cell_type": "markdown",
   "metadata": {},
   "source": [
    "# Practical 3 : Tree Based Method"
   ]
  },
  {
   "cell_type": "markdown",
   "metadata": {},
   "source": [
    "## 1.Tree Implementation"
   ]
  },
  {
   "cell_type": "code",
   "execution_count": 7,
   "metadata": {
    "collapsed": true
   },
   "outputs": [],
   "source": [
    "import numpy as np\n",
    "import matplotlib.pyplot as plt\n",
    "import pandas as pd\n",
    "import math"
   ]
  },
  {
   "cell_type": "code",
   "execution_count": 8,
   "metadata": {},
   "outputs": [
    {
     "name": "stdout",
     "output_type": "stream",
     "text": [
      "     Income  Limit  Rating  Cards  Age  Education  Gender Student Married  \\\n",
      "1    14.891   3606     283      2   34         11    Male      No     Yes   \n",
      "2   106.025   6645     483      3   82         15  Female     Yes     Yes   \n",
      "3   104.593   7075     514      4   71         11    Male      No      No   \n",
      "4   148.924   9504     681      3   36         11  Female      No      No   \n",
      "5    55.882   4897     357      2   68         16    Male      No     Yes   \n",
      "6    80.180   8047     569      4   77         10    Male      No      No   \n",
      "7    20.996   3388     259      2   37         12  Female      No      No   \n",
      "8    71.408   7114     512      2   87          9    Male      No      No   \n",
      "9    15.125   3300     266      5   66         13  Female      No      No   \n",
      "10   71.061   6819     491      3   41         19  Female     Yes     Yes   \n",
      "\n",
      "           Ethnicity  Balance  \n",
      "1          Caucasian      333  \n",
      "2              Asian      903  \n",
      "3              Asian      580  \n",
      "4              Asian      964  \n",
      "5          Caucasian      331  \n",
      "6          Caucasian     1151  \n",
      "7   African American      203  \n",
      "8              Asian      872  \n",
      "9          Caucasian      279  \n",
      "10  African American     1350  \n"
     ]
    },
    {
     "name": "stderr",
     "output_type": "stream",
     "text": [
      "/home/osilab1/anaconda3/lib/python3.6/site-packages/pandas/core/generic.py:3924: SettingWithCopyWarning: \n",
      "A value is trying to be set on a copy of a slice from a DataFrame\n",
      "\n",
      "See the caveats in the documentation: http://pandas.pydata.org/pandas-docs/stable/indexing.html#indexing-view-versus-copy\n",
      "  self._update_inplace(new_data)\n"
     ]
    }
   ],
   "source": [
    "def loadDataset(filename):\n",
    "    df = pd.read_csv(filename, index_col=0)\n",
    "    print(df.head(10))\n",
    "    input_features=['Age','Income','Limit','Cards','Student','Education']\n",
    "    target_feature=['Balance']\n",
    "    target_feature=['Balance']\n",
    "    df_input=df[input_features+target_feature]\n",
    "    df_input['Student'].replace('Yes',1,inplace=True)\n",
    "    df_input['Student'].replace('No',0,inplace=True)\n",
    "    train=df_input.sample(frac=0.75,random_state=3) #split into train and test\n",
    "    test=df_input.drop(train.index)\n",
    "    trainingSet=train.values\n",
    "    testSet=test.values\n",
    "    return trainingSet, testSet\n",
    "\n",
    "training_set,test_set=loadDataset('Credit.csv')\n"
   ]
  },
  {
   "cell_type": "code",
   "execution_count": 20,
   "metadata": {
    "collapsed": true
   },
   "outputs": [],
   "source": [
    "verbose = False\n",
    "def RSS(splits):\n",
    "    residual = 0\n",
    "    for split in splits:\n",
    "        if(len(split) != 0):\n",
    "            mean = np.mean([element[-1] for element in split]) #TODO\n",
    "            residual = residual+ np.sum([ (element[-1] - mean)**2 for element in split]) #TODO\n",
    "    return residual"
   ]
  },
  {
   "cell_type": "code",
   "execution_count": 21,
   "metadata": {},
   "outputs": [
    {
     "name": "stdout",
     "output_type": "stream",
     "text": [
      "Your calculations are right, at least on this specific example\n"
     ]
    }
   ],
   "source": [
    "split_1 = np.array([[[0,2],[0,8]],[[4,5]]])\n",
    "RSS_value = RSS(split_1)\n",
    "if (type(RSS_value) not in [int,float,np.float16,np.float32,np.float64]):\n",
    "    print(\"TypeError : check your output\")\n",
    "elif(RSS(split_1) == 18.0):\n",
    "    print(\"Your calculations are right, at least on this specific example\")\n",
    "else:\n",
    "    print(\"Your calculations are wrong\")"
   ]
  },
  {
   "cell_type": "code",
   "execution_count": 11,
   "metadata": {
    "collapsed": true
   },
   "outputs": [],
   "source": [
    "def split(index, value, data):\n",
    "    left_split = [element for element in data if(element[index]<value)] #TODO condition\n",
    "    right_split = [element for element in data if(element[index]>=value)] #TODO condition\n",
    "    return [left_split, right_split]\n"
   ]
  },
  {
   "cell_type": "code",
   "execution_count": 12,
   "metadata": {
    "collapsed": true
   },
   "outputs": [],
   "source": [
    "def split_tester(data): #find optimal split\n",
    "    optimal_split_ind, optimal_split_value, optimal_residual, optimal_splits = -1,-1,float(\"inf\"),[]\n",
    "    for curr_ind in range(data.shape[1]-1): #for all features\n",
    "        min_val=np.min(data[:,curr_ind])\n",
    "        for curr_val in data: #for all values in the data\n",
    "            if curr_val[curr_ind] == min_val:\n",
    "                continue\n",
    "            if(verbose):print(\"Curr_split : \" + str((curr_ind, curr_val[curr_ind])))\n",
    "            split_result = split(curr_ind, curr_val[curr_ind], data) #TODO (comments : get the current split)\n",
    "            \n",
    "            if(verbose):print(split_result)\n",
    "            residual_value = RSS(split_result)#TODO (comments : get the RSS of the current split)\n",
    "            \n",
    "            if(verbose):print(\"Residual : \" + str(residual_value))\n",
    "            if residual_value < optimal_residual:\n",
    "                optimal_split_ind, optimal_split_value, optimal_residual, optimal_splits = curr_ind,\\\n",
    "                                                                    curr_val[curr_ind], residual_value, split_result\n",
    "                \n",
    "    return optimal_split_ind, optimal_split_value, optimal_splits   # index is feature, value is for crietria, splits is data list."
   ]
  },
  {
   "cell_type": "code",
   "execution_count": 13,
   "metadata": {},
   "outputs": [
    {
     "name": "stdout",
     "output_type": "stream",
     "text": [
      "You found the good split index and value\n"
     ]
    }
   ],
   "source": [
    "optimal_ind, optimal_value,_ = split_tester(np.array([[0,-10],[2,4],[4,5]]))\n",
    "if (optimal_ind != 0):\n",
    "    print(\"Your optimal split index is wrong (Careful, Python arrays starts at 0)\")\n",
    "elif(optimal_value != 2):\n",
    "    print(\"Your optimal split value is wrong\")\n",
    "else:\n",
    "    print(\"You found the good split index and value\")"
   ]
  },
  {
   "cell_type": "code",
   "execution_count": 14,
   "metadata": {
    "collapsed": true
   },
   "outputs": [],
   "source": [
    "def tree_building(data, min_size): #minimun data size in a split\n",
    "    if(data.shape[0] > min_size): #building tree until the minimum.\n",
    "        ind, value, [left, right] = split_tester(data) #using optimal criteria using split_tester\n",
    "        left, right = np.array(left), np.array(right)\n",
    "        return [tree_building(left, min_size), tree_building(right, min_size),ind,value]\n",
    "    else:\n",
    "        return data  #output is the data in a leaf node."
   ]
  },
  {
   "cell_type": "code",
   "execution_count": null,
   "metadata": {
    "collapsed": true
   },
   "outputs": [],
   "source": []
  },
  {
   "cell_type": "code",
   "execution_count": 15,
   "metadata": {
    "collapsed": true
   },
   "outputs": [],
   "source": [
    "def predict(tree, input_vector):#recursive until reaching the leaf node.\n",
    "    if(type(tree[-1]) != np.float64): #when reach the leaf node. tree represent the split data.\n",
    "        if(len(tree) == 1):  #when number of data is 1\n",
    "            return(tree[0][-1])   #get the wage in the data\n",
    "        else:\n",
    "            return(np.mean([element[-1] for element in tree]))   #average of a leaf node.\n",
    "    else:  #before reaching leaf node\n",
    "        left_tree, right_tree, split_ind, split_value = tree #information of the current split \n",
    "        if(input_vector[split_ind]<split_value): #which split the input data belong to\n",
    "            return predict(left_tree, input_vector)\n",
    "        else:\n",
    "            return predict(right_tree, input_vector)\n",
    "    "
   ]
  },
  {
   "cell_type": "code",
   "execution_count": 16,
   "metadata": {},
   "outputs": [
    {
     "name": "stdout",
     "output_type": "stream",
     "text": [
      "[ 333.  903.  580.  872. 1350.   89.  654. 1809.    0.  762. 1120.    0.\n",
      "  902.    0. 1084.  532.  812.  937.  155. 1311.  745.    0.   47.  768.\n",
      " 1341.    0.    0.  255.    0.    0.  605.    0.    0.  581.  156.  429.\n",
      "  836.  570.    0. 1099.  283.  108. 1573.    0.  453.  789.    0. 1448.\n",
      "  336.    0.    0.  230.  308.   52.  653.  573. 1032.  689.  191.   16.\n",
      "   98.  218.    0.    0.  942.  967.  529.  531.    0.  485. 1677.    0.\n",
      "  580.  681.  844.  823.  463. 1142.    0.  265. 1361.  474.  194.  926.\n",
      "    0.  426.  907. 1192.  503.    0. 1405.  962.  712.  710.  578. 1264.\n",
      "  345.  721.  734.    0.]\n",
      "test plot\n"
     ]
    },
    {
     "data": {
      "image/png": "[encoded data removed]",
      "text/plain": [
       "<matplotlib.figure.Figure at 0x7f579cc80940>"
      ]
     },
     "metadata": {},
     "output_type": "display_data"
    },
    {
     "name": "stdout",
     "output_type": "stream",
     "text": [
      "Accuracy: 132.98471924680285\n"
     ]
    }
   ],
   "source": [
    "def getAccuracy(testSet, predictions):\n",
    "    print(np.array(testSet)[:,-1])\n",
    "    difference=np.sqrt(np.average((np.array(testSet)[:,-1]-np.array(predictions))**2))\n",
    "    print('test plot')\n",
    "    plt.plot(np.array(testSet)[:,-1], np.array(predictions),  'ro', label='test set')\n",
    "    plt.plot(np.array(testSet)[:,-1], np.array(testSet)[:,-1], label='standard line')\n",
    "    plt.xlabel(\"Target\")\n",
    "    plt.ylabel(\"Output\")\n",
    "    plt.legend()\n",
    "    plt.show()\n",
    "    return difference\n",
    "\n",
    "\n",
    "tree = tree_building(training_set,10)\n",
    "predictions=[]\n",
    "for employee in test_set:\n",
    "    predictions.append(predict(tree,employee))\n",
    "#     print(\"Predicted : \" + str(predict(tree,employee)) + \", Actual : \" + str(employee[-1]))\n",
    "accuracy = getAccuracy(test_set, predictions)\n",
    "print('Accuracy: ' + repr(accuracy))"
   ]
  },
  {
   "cell_type": "code",
   "execution_count": 17,
   "metadata": {},
   "outputs": [
    {
     "name": "stdout",
     "output_type": "stream",
     "text": [
      "     Income  Limit  Rating  Cards  Age  Education  Gender Student Married  \\\n",
      "1    14.891   3606     283      2   34         11    Male      No     Yes   \n",
      "2   106.025   6645     483      3   82         15  Female     Yes     Yes   \n",
      "3   104.593   7075     514      4   71         11    Male      No      No   \n",
      "4   148.924   9504     681      3   36         11  Female      No      No   \n",
      "5    55.882   4897     357      2   68         16    Male      No     Yes   \n",
      "6    80.180   8047     569      4   77         10    Male      No      No   \n",
      "7    20.996   3388     259      2   37         12  Female      No      No   \n",
      "8    71.408   7114     512      2   87          9    Male      No      No   \n",
      "9    15.125   3300     266      5   66         13  Female      No      No   \n",
      "10   71.061   6819     491      3   41         19  Female     Yes     Yes   \n",
      "\n",
      "           Ethnicity  Balance  \n",
      "1          Caucasian      333  \n",
      "2              Asian      903  \n",
      "3              Asian      580  \n",
      "4              Asian      964  \n",
      "5          Caucasian      331  \n",
      "6          Caucasian     1151  \n",
      "7   African American      203  \n",
      "8              Asian      872  \n",
      "9          Caucasian      279  \n",
      "10  African American     1350  \n"
     ]
    },
    {
     "name": "stderr",
     "output_type": "stream",
     "text": [
      "/home/osilab1/anaconda3/lib/python3.6/site-packages/pandas/core/generic.py:3924: SettingWithCopyWarning: \n",
      "A value is trying to be set on a copy of a slice from a DataFrame\n",
      "\n",
      "See the caveats in the documentation: http://pandas.pydata.org/pandas-docs/stable/indexing.html#indexing-view-versus-copy\n",
      "  self._update_inplace(new_data)\n"
     ]
    },
    {
     "name": "stdout",
     "output_type": "stream",
     "text": [
      "[ 333.  903.  580.  872. 1350.   89.  654. 1809.    0.  762. 1120.    0.\n",
      "  902.    0. 1084.  532.  812.  937.  155. 1311.  745.    0.   47.  768.\n",
      " 1341.    0.    0.  255.    0.    0.  605.    0.    0.  581.  156.  429.\n",
      "  836.  570.    0. 1099.  283.  108. 1573.    0.  453.  789.    0. 1448.\n",
      "  336.    0.    0.  230.  308.   52.  653.  573. 1032.  689.  191.   16.\n",
      "   98.  218.    0.    0.  942.  967.  529.  531.    0.  485. 1677.    0.\n",
      "  580.  681.  844.  823.  463. 1142.    0.  265. 1361.  474.  194.  926.\n",
      "    0.  426.  907. 1192.  503.    0. 1405.  962.  712.  710.  578. 1264.\n",
      "  345.  721.  734.    0.]\n",
      "test plot\n"
     ]
    },
    {
     "data": {
      "image/png": "[encoded data removed]",
      "text/plain": [
       "<matplotlib.figure.Figure at 0x7f57bd0f40f0>"
      ]
     },
     "metadata": {},
     "output_type": "display_data"
    },
    {
     "name": "stdout",
     "output_type": "stream",
     "text": [
      "Error(RMSE): 121.47763121872065\n"
     ]
    }
   ],
   "source": [
    "import random\n",
    "from random import randrange\n",
    "\n",
    "def subsample(dataset, ratio=1):\n",
    "    sample = list()\n",
    "    n_sample = round(dataset.shape[0] * ratio)\n",
    "    while len(sample) < n_sample:\n",
    "        index = randrange(len(dataset))\n",
    "        sample.append(dataset[index,:])\n",
    "    return np.array(sample)\n",
    "\n",
    "def main():\n",
    "    repeat=10\n",
    "    training_set,test_set=loadDataset('Credit.csv')\n",
    "    predictions=[]\n",
    "    random.seed(3)\n",
    "    for i in range(repeat):\n",
    "        pred_temp=[]\n",
    "        train_subset=subsample(training_set)\n",
    "        tree = tree_building(train_subset,10)\n",
    "        for employee in test_set:\n",
    "            pred_temp.append(predict(tree,employee))\n",
    "        predictions.append(pred_temp)\n",
    "    predictions_avg=np.array(predictions).sum(axis=0)/repeat\n",
    "    accuracy = getAccuracy(test_set, predictions_avg)\n",
    "    print('Error(RMSE): ' + repr(accuracy))\n",
    "    \n",
    "main()"
   ]
  },
  {
   "cell_type": "code",
   "execution_count": 18,
   "metadata": {},
   "outputs": [
    {
     "name": "stderr",
     "output_type": "stream",
     "text": [
      "/home/osilab1/anaconda3/lib/python3.6/site-packages/sklearn/cross_validation.py:41: DeprecationWarning: This module was deprecated in version 0.18 in favor of the model_selection module into which all the refactored classes and functions are moved. Also note that the interface of the new CV iterators are different from that of this module. This module will be removed in 0.20.\n",
      "  \"This module will be removed in 0.20.\", DeprecationWarning)\n",
      "/home/osilab1/anaconda3/lib/python3.6/site-packages/sklearn/ensemble/weight_boosting.py:29: DeprecationWarning: numpy.core.umath_tests is an internal NumPy module and should not be imported. It will be removed in a future NumPy release.\n",
      "  from numpy.core.umath_tests import inner1d\n"
     ]
    }
   ],
   "source": [
    "from sklearn.cross_validation import train_test_split\n",
    "from sklearn.ensemble import RandomForestRegressor\n",
    "from sklearn import metrics\n",
    "import xgboost\n",
    "\n",
    "\n",
    "\n",
    "dataset=pd.read_csv('Credit.csv')\n",
    "input_features=['Age','Income','Limit','Cards','Student','Education']\n",
    "target_feature=['Balance']\n",
    "target_feature=['Balance']\n",
    "dataset=dataset[input_features+target_feature]\n",
    "dataset['Student'].replace('Yes',1,inplace=True)\n",
    "dataset['Student'].replace('No',0,inplace=True)\n",
    "x = dataset.drop('Balance', axis = 1).values\n",
    "y = dataset['Balance'].values\n",
    "X_train, X_test, y_train, y_test = train_test_split(x, y, test_size = 0.25, random_state = 0)\n",
    "\n",
    "def getAccuracy(testSet, predictions):\n",
    "    print('test plot')\n",
    "    plt.plot(testSet, predictions,  'ro', label='test set')\n",
    "    plt.plot(testSet, testSet, label='standard line')\n",
    "    plt.xlabel(\"Target\")\n",
    "    plt.ylabel(\"Output\")\n",
    "    plt.legend()\n",
    "    plt.show()\n",
    "\n",
    "    \n",
    "\n",
    "\n"
   ]
  },
  {
   "cell_type": "code",
   "execution_count": 19,
   "metadata": {},
   "outputs": [
    {
     "name": "stdout",
     "output_type": "stream",
     "text": [
      "test plot\n"
     ]
    },
    {
     "data": {
      "image/png": "[encoded data removed]",
      "text/plain": [
       "<matplotlib.figure.Figure at 0x7f579cf51860>"
      ]
     },
     "metadata": {},
     "output_type": "display_data"
    },
    {
     "name": "stdout",
     "output_type": "stream",
     "text": [
      "Root Mean Squared Error: 97.47764281105695\n"
     ]
    }
   ],
   "source": [
    "regressor = RandomForestRegressor(n_estimators = 50, random_state = 0)\n",
    "\n",
    "regressor.fit(X_train, y_train)\n",
    "y_pred = regressor.predict(X_test)\n",
    "getAccuracy(y_test, y_pred)\n",
    "print('Root Mean Squared Error:', np.sqrt(metrics.mean_squared_error(y_test, y_pred)))"
   ]
  },
  {
   "cell_type": "code",
   "execution_count": 14,
   "metadata": {},
   "outputs": [
    {
     "name": "stdout",
     "output_type": "stream",
     "text": [
      "[15:01:12] WARNING: /workspace/src/objective/regression_obj.cu:152: reg:linear is now deprecated in favor of reg:squarederror.\n",
      "test plot\n"
     ]
    },
    {
     "data": {
      "image/png": "[encoded data removed]",
      "text/plain": [
       "<matplotlib.figure.Figure at 0x7faddb077f28>"
      ]
     },
     "metadata": {},
     "output_type": "display_data"
    },
    {
     "name": "stdout",
     "output_type": "stream",
     "text": [
      "Root Mean Squared Error: 83.36127735144974\n"
     ]
    }
   ],
   "source": [
    "xgb_model = xgboost.XGBRegressor(seed=42) \n",
    "\n",
    "xgb_model.fit(X_train, y_train)\n",
    "y_pred = xgb_model.predict(X_test)\n",
    "getAccuracy(y_test, y_pred)\n",
    "print('Root Mean Squared Error:', np.sqrt(metrics.mean_squared_error(y_test, y_pred)))"
   ]
  },
  {
   "cell_type": "code",
   "execution_count": null,
   "metadata": {
    "collapsed": true
   },
   "outputs": [],
   "source": [
    "xgboost.XGBRegressor(\n",
    "    colsample_bytree=0.4,\n",
    "                 gamma=0,                 \n",
    "                 learning_rate=0.07,\n",
    "                 max_depth=3,\n",
    "                 min_child_weight=1.5,\n",
    "                 n_estimators=10000,                                                                    \n",
    "                 reg_alpha=0.75,\n",
    "                 reg_lambda=0.45,\n",
    "                 subsample=0.6,\n",
    "                 seed=42) "
   ]
  },
  {
   "cell_type": "markdown",
   "metadata": {},
   "source": [
    "## 2.SKL Implementation, bagging, random forest."
   ]
  },
  {
   "cell_type": "code",
   "execution_count": 33,
   "metadata": {},
   "outputs": [
    {
     "name": "stderr",
     "output_type": "stream",
     "text": [
      "/home/osilab1/anaconda3/lib/python3.6/site-packages/sklearn/ensemble/weight_boosting.py:29: DeprecationWarning: numpy.core.umath_tests is an internal NumPy module and should not be imported. It will be removed in a future NumPy release.\n",
      "  from numpy.core.umath_tests import inner1d\n"
     ]
    }
   ],
   "source": [
    "from sklearn import tree, model_selection,ensemble\n",
    "from sklearn.datasets import load_iris, load_digits\n",
    "import graphviz\n",
    "import os\n",
    "from subprocess import call\n",
    "import matplotlib.image as mpimg\n",
    "import matplotlib.pyplot as plt"
   ]
  },
  {
   "cell_type": "code",
   "execution_count": 34,
   "metadata": {
    "collapsed": true
   },
   "outputs": [],
   "source": [
    "seed = 343\n",
    "\n",
    "iris = load_iris()\n",
    "clf = tree.DecisionTreeClassifier(random_state=seed)"
   ]
  },
  {
   "cell_type": "code",
   "execution_count": 35,
   "metadata": {
    "collapsed": true
   },
   "outputs": [],
   "source": [
    "def show(clf,filename):\n",
    "    \"\"\"\n",
    "    Save the classifier under the /Graph repository as filename + .png, which is created for this purpose, then displays it\n",
    "    \"\"\"\n",
    "    path = \"./Graph\"\n",
    "    temp_path = path + \"/temp.dot\"\n",
    "    png_path = path+'/'+filename+\".png\"\n",
    "    if (not os.path.isdir(path)):\n",
    "        try:  \n",
    "            os.mkdir(path)\n",
    "        except OSError:  \n",
    "            print (\"Creation of the directory %s failed\" % path)\n",
    "        else:  \n",
    "            print (\"Successfully created the directory %s \" % path)\n",
    "    dot_data = tree.export_graphviz(clf, out_file=temp_path, \n",
    "                    feature_names=iris.feature_names,  \n",
    "                    class_names=iris.target_names,  \n",
    "                    filled=True, rounded=True,  \n",
    "                    special_characters=True)\n",
    "    if(not os.path.exists(png_path)):\n",
    "        call(['dot', '-Tpng', temp_path, '-o', png_path, '-Gdpi=600'])\n",
    "    else :\n",
    "        print(\"Filename already used\")\n",
    "    os.remove(temp_path)\n",
    "    img = mpimg.imread(png_path)\n",
    "    plt.figure(dpi= 800)\n",
    "    plt.axis(\"off\")\n",
    "    plt.imshow(img)\n",
    "    plt.show()"
   ]
  },
  {
   "cell_type": "code",
   "execution_count": 36,
   "metadata": {},
   "outputs": [
    {
     "name": "stderr",
     "output_type": "stream",
     "text": [
      "/home/osilab1/anaconda3/lib/python3.6/site-packages/sklearn/model_selection/_split.py:2026: FutureWarning: From version 0.21, test_size will always complement train_size unless both are specified.\n",
      "  FutureWarning)\n"
     ]
    }
   ],
   "source": [
    "train_feat, test_feat, train_target, test_target = model_selection.train_test_split(iris.data, iris.target, train_size = 0.7)"
   ]
  },
  {
   "cell_type": "code",
   "execution_count": 37,
   "metadata": {},
   "outputs": [
    {
     "data": {
      "text/plain": [
       "DecisionTreeClassifier(class_weight=None, criterion='gini', max_depth=None,\n",
       "            max_features=None, max_leaf_nodes=None,\n",
       "            min_impurity_decrease=0.0, min_impurity_split=None,\n",
       "            min_samples_leaf=1, min_samples_split=2,\n",
       "            min_weight_fraction_leaf=0.0, presort=False, random_state=343,\n",
       "            splitter='best')"
      ]
     },
     "execution_count": 37,
     "metadata": {},
     "output_type": "execute_result"
    }
   ],
   "source": [
    "clf.fit(train_feat,train_target)"
   ]
  },
  {
   "cell_type": "code",
   "execution_count": 38,
   "metadata": {},
   "outputs": [
    {
     "name": "stdout",
     "output_type": "stream",
     "text": [
      "Successfully created the directory ./Graph \n"
     ]
    },
    {
     "ename": "FileNotFoundError",
     "evalue": "[Errno 2] No such file or directory: 'dot': 'dot'",
     "output_type": "error",
     "traceback": [
      "\u001b[0;31m---------------------------------------------------------------------------\u001b[0m",
      "\u001b[0;31mFileNotFoundError\u001b[0m                         Traceback (most recent call last)",
      "\u001b[0;32m<ipython-input-38-25dc8a1bd813>\u001b[0m in \u001b[0;36m<module>\u001b[0;34m()\u001b[0m\n\u001b[0;32m----> 1\u001b[0;31m \u001b[0mshow\u001b[0m\u001b[0;34m(\u001b[0m\u001b[0mclf\u001b[0m\u001b[0;34m,\u001b[0m\u001b[0;34m\"Trained\"\u001b[0m\u001b[0;34m)\u001b[0m\u001b[0;34m\u001b[0m\u001b[0;34m\u001b[0m\u001b[0m\n\u001b[0m",
      "\u001b[0;32m<ipython-input-35-901ba6c9354d>\u001b[0m in \u001b[0;36mshow\u001b[0;34m(clf, filename)\u001b[0m\n\u001b[1;32m     19\u001b[0m                     special_characters=True)\n\u001b[1;32m     20\u001b[0m     \u001b[0;32mif\u001b[0m\u001b[0;34m(\u001b[0m\u001b[0;32mnot\u001b[0m \u001b[0mos\u001b[0m\u001b[0;34m.\u001b[0m\u001b[0mpath\u001b[0m\u001b[0;34m.\u001b[0m\u001b[0mexists\u001b[0m\u001b[0;34m(\u001b[0m\u001b[0mpng_path\u001b[0m\u001b[0;34m)\u001b[0m\u001b[0;34m)\u001b[0m\u001b[0;34m:\u001b[0m\u001b[0;34m\u001b[0m\u001b[0;34m\u001b[0m\u001b[0m\n\u001b[0;32m---> 21\u001b[0;31m         \u001b[0mcall\u001b[0m\u001b[0;34m(\u001b[0m\u001b[0;34m[\u001b[0m\u001b[0;34m'dot'\u001b[0m\u001b[0;34m,\u001b[0m \u001b[0;34m'-Tpng'\u001b[0m\u001b[0;34m,\u001b[0m \u001b[0mtemp_path\u001b[0m\u001b[0;34m,\u001b[0m \u001b[0;34m'-o'\u001b[0m\u001b[0;34m,\u001b[0m \u001b[0mpng_path\u001b[0m\u001b[0;34m,\u001b[0m \u001b[0;34m'-Gdpi=600'\u001b[0m\u001b[0;34m]\u001b[0m\u001b[0;34m)\u001b[0m\u001b[0;34m\u001b[0m\u001b[0;34m\u001b[0m\u001b[0m\n\u001b[0m\u001b[1;32m     22\u001b[0m     \u001b[0;32melse\u001b[0m \u001b[0;34m:\u001b[0m\u001b[0;34m\u001b[0m\u001b[0;34m\u001b[0m\u001b[0m\n\u001b[1;32m     23\u001b[0m         \u001b[0mprint\u001b[0m\u001b[0;34m(\u001b[0m\u001b[0;34m\"Filename already used\"\u001b[0m\u001b[0;34m)\u001b[0m\u001b[0;34m\u001b[0m\u001b[0;34m\u001b[0m\u001b[0m\n",
      "\u001b[0;32m~/anaconda3/lib/python3.6/subprocess.py\u001b[0m in \u001b[0;36mcall\u001b[0;34m(timeout, *popenargs, **kwargs)\u001b[0m\n\u001b[1;32m    285\u001b[0m     \u001b[0mretcode\u001b[0m \u001b[0;34m=\u001b[0m \u001b[0mcall\u001b[0m\u001b[0;34m(\u001b[0m\u001b[0;34m[\u001b[0m\u001b[0;34m\"ls\"\u001b[0m\u001b[0;34m,\u001b[0m \u001b[0;34m\"-l\"\u001b[0m\u001b[0;34m]\u001b[0m\u001b[0;34m)\u001b[0m\u001b[0;34m\u001b[0m\u001b[0;34m\u001b[0m\u001b[0m\n\u001b[1;32m    286\u001b[0m     \"\"\"\n\u001b[0;32m--> 287\u001b[0;31m     \u001b[0;32mwith\u001b[0m \u001b[0mPopen\u001b[0m\u001b[0;34m(\u001b[0m\u001b[0;34m*\u001b[0m\u001b[0mpopenargs\u001b[0m\u001b[0;34m,\u001b[0m \u001b[0;34m**\u001b[0m\u001b[0mkwargs\u001b[0m\u001b[0;34m)\u001b[0m \u001b[0;32mas\u001b[0m \u001b[0mp\u001b[0m\u001b[0;34m:\u001b[0m\u001b[0;34m\u001b[0m\u001b[0;34m\u001b[0m\u001b[0m\n\u001b[0m\u001b[1;32m    288\u001b[0m         \u001b[0;32mtry\u001b[0m\u001b[0;34m:\u001b[0m\u001b[0;34m\u001b[0m\u001b[0;34m\u001b[0m\u001b[0m\n\u001b[1;32m    289\u001b[0m             \u001b[0;32mreturn\u001b[0m \u001b[0mp\u001b[0m\u001b[0;34m.\u001b[0m\u001b[0mwait\u001b[0m\u001b[0;34m(\u001b[0m\u001b[0mtimeout\u001b[0m\u001b[0;34m=\u001b[0m\u001b[0mtimeout\u001b[0m\u001b[0;34m)\u001b[0m\u001b[0;34m\u001b[0m\u001b[0;34m\u001b[0m\u001b[0m\n",
      "\u001b[0;32m~/anaconda3/lib/python3.6/subprocess.py\u001b[0m in \u001b[0;36m__init__\u001b[0;34m(self, args, bufsize, executable, stdin, stdout, stderr, preexec_fn, close_fds, shell, cwd, env, universal_newlines, startupinfo, creationflags, restore_signals, start_new_session, pass_fds, encoding, errors)\u001b[0m\n\u001b[1;32m    727\u001b[0m                                 \u001b[0mc2pread\u001b[0m\u001b[0;34m,\u001b[0m \u001b[0mc2pwrite\u001b[0m\u001b[0;34m,\u001b[0m\u001b[0;34m\u001b[0m\u001b[0;34m\u001b[0m\u001b[0m\n\u001b[1;32m    728\u001b[0m                                 \u001b[0merrread\u001b[0m\u001b[0;34m,\u001b[0m \u001b[0merrwrite\u001b[0m\u001b[0;34m,\u001b[0m\u001b[0;34m\u001b[0m\u001b[0;34m\u001b[0m\u001b[0m\n\u001b[0;32m--> 729\u001b[0;31m                                 restore_signals, start_new_session)\n\u001b[0m\u001b[1;32m    730\u001b[0m         \u001b[0;32mexcept\u001b[0m\u001b[0;34m:\u001b[0m\u001b[0;34m\u001b[0m\u001b[0;34m\u001b[0m\u001b[0m\n\u001b[1;32m    731\u001b[0m             \u001b[0;31m# Cleanup if the child failed starting.\u001b[0m\u001b[0;34m\u001b[0m\u001b[0;34m\u001b[0m\u001b[0;34m\u001b[0m\u001b[0m\n",
      "\u001b[0;32m~/anaconda3/lib/python3.6/subprocess.py\u001b[0m in \u001b[0;36m_execute_child\u001b[0;34m(self, args, executable, preexec_fn, close_fds, pass_fds, cwd, env, startupinfo, creationflags, shell, p2cread, p2cwrite, c2pread, c2pwrite, errread, errwrite, restore_signals, start_new_session)\u001b[0m\n\u001b[1;32m   1362\u001b[0m                         \u001b[0;32mif\u001b[0m \u001b[0merrno_num\u001b[0m \u001b[0;34m==\u001b[0m \u001b[0merrno\u001b[0m\u001b[0;34m.\u001b[0m\u001b[0mENOENT\u001b[0m\u001b[0;34m:\u001b[0m\u001b[0;34m\u001b[0m\u001b[0;34m\u001b[0m\u001b[0m\n\u001b[1;32m   1363\u001b[0m                             \u001b[0merr_msg\u001b[0m \u001b[0;34m+=\u001b[0m \u001b[0;34m': '\u001b[0m \u001b[0;34m+\u001b[0m \u001b[0mrepr\u001b[0m\u001b[0;34m(\u001b[0m\u001b[0merr_filename\u001b[0m\u001b[0;34m)\u001b[0m\u001b[0;34m\u001b[0m\u001b[0;34m\u001b[0m\u001b[0m\n\u001b[0;32m-> 1364\u001b[0;31m                     \u001b[0;32mraise\u001b[0m \u001b[0mchild_exception_type\u001b[0m\u001b[0;34m(\u001b[0m\u001b[0merrno_num\u001b[0m\u001b[0;34m,\u001b[0m \u001b[0merr_msg\u001b[0m\u001b[0;34m,\u001b[0m \u001b[0merr_filename\u001b[0m\u001b[0;34m)\u001b[0m\u001b[0;34m\u001b[0m\u001b[0;34m\u001b[0m\u001b[0m\n\u001b[0m\u001b[1;32m   1365\u001b[0m                 \u001b[0;32mraise\u001b[0m \u001b[0mchild_exception_type\u001b[0m\u001b[0;34m(\u001b[0m\u001b[0merr_msg\u001b[0m\u001b[0;34m)\u001b[0m\u001b[0;34m\u001b[0m\u001b[0;34m\u001b[0m\u001b[0m\n\u001b[1;32m   1366\u001b[0m \u001b[0;34m\u001b[0m\u001b[0m\n",
      "\u001b[0;31mFileNotFoundError\u001b[0m: [Errno 2] No such file or directory: 'dot': 'dot'"
     ]
    }
   ],
   "source": [
    "show(clf,\"Trained\")"
   ]
  },
  {
   "cell_type": "code",
   "execution_count": 39,
   "metadata": {},
   "outputs": [
    {
     "data": {
      "text/plain": [
       "1.0"
      ]
     },
     "execution_count": 39,
     "metadata": {},
     "output_type": "execute_result"
    }
   ],
   "source": [
    "clf.score(train_feat, train_target)"
   ]
  },
  {
   "cell_type": "code",
   "execution_count": 40,
   "metadata": {},
   "outputs": [
    {
     "data": {
      "text/plain": [
       "0.9555555555555556"
      ]
     },
     "execution_count": 40,
     "metadata": {},
     "output_type": "execute_result"
    }
   ],
   "source": [
    "clf.score(test_feat, test_target)"
   ]
  },
  {
   "cell_type": "code",
   "execution_count": 41,
   "metadata": {
    "collapsed": true
   },
   "outputs": [],
   "source": [
    "clf = tree.DecisionTreeClassifier(min_samples_leaf = 5 ,random_state=seed)"
   ]
  },
  {
   "cell_type": "code",
   "execution_count": 42,
   "metadata": {},
   "outputs": [
    {
     "data": {
      "text/plain": [
       "DecisionTreeClassifier(class_weight=None, criterion='gini', max_depth=None,\n",
       "            max_features=None, max_leaf_nodes=None,\n",
       "            min_impurity_decrease=0.0, min_impurity_split=None,\n",
       "            min_samples_leaf=5, min_samples_split=2,\n",
       "            min_weight_fraction_leaf=0.0, presort=False, random_state=343,\n",
       "            splitter='best')"
      ]
     },
     "execution_count": 42,
     "metadata": {},
     "output_type": "execute_result"
    }
   ],
   "source": [
    "clf.fit(train_feat,train_target)"
   ]
  },
  {
   "cell_type": "code",
   "execution_count": 43,
   "metadata": {},
   "outputs": [
    {
     "ename": "FileNotFoundError",
     "evalue": "[Errno 2] No such file or directory: 'dot': 'dot'",
     "output_type": "error",
     "traceback": [
      "\u001b[0;31m---------------------------------------------------------------------------\u001b[0m",
      "\u001b[0;31mFileNotFoundError\u001b[0m                         Traceback (most recent call last)",
      "\u001b[0;32m<ipython-input-43-6805b127c619>\u001b[0m in \u001b[0;36m<module>\u001b[0;34m()\u001b[0m\n\u001b[0;32m----> 1\u001b[0;31m \u001b[0mshow\u001b[0m\u001b[0;34m(\u001b[0m\u001b[0mclf\u001b[0m\u001b[0;34m,\u001b[0m\u001b[0;34m\"No_over\"\u001b[0m\u001b[0;34m)\u001b[0m\u001b[0;34m\u001b[0m\u001b[0;34m\u001b[0m\u001b[0m\n\u001b[0m",
      "\u001b[0;32m<ipython-input-35-901ba6c9354d>\u001b[0m in \u001b[0;36mshow\u001b[0;34m(clf, filename)\u001b[0m\n\u001b[1;32m     19\u001b[0m                     special_characters=True)\n\u001b[1;32m     20\u001b[0m     \u001b[0;32mif\u001b[0m\u001b[0;34m(\u001b[0m\u001b[0;32mnot\u001b[0m \u001b[0mos\u001b[0m\u001b[0;34m.\u001b[0m\u001b[0mpath\u001b[0m\u001b[0;34m.\u001b[0m\u001b[0mexists\u001b[0m\u001b[0;34m(\u001b[0m\u001b[0mpng_path\u001b[0m\u001b[0;34m)\u001b[0m\u001b[0;34m)\u001b[0m\u001b[0;34m:\u001b[0m\u001b[0;34m\u001b[0m\u001b[0;34m\u001b[0m\u001b[0m\n\u001b[0;32m---> 21\u001b[0;31m         \u001b[0mcall\u001b[0m\u001b[0;34m(\u001b[0m\u001b[0;34m[\u001b[0m\u001b[0;34m'dot'\u001b[0m\u001b[0;34m,\u001b[0m \u001b[0;34m'-Tpng'\u001b[0m\u001b[0;34m,\u001b[0m \u001b[0mtemp_path\u001b[0m\u001b[0;34m,\u001b[0m \u001b[0;34m'-o'\u001b[0m\u001b[0;34m,\u001b[0m \u001b[0mpng_path\u001b[0m\u001b[0;34m,\u001b[0m \u001b[0;34m'-Gdpi=600'\u001b[0m\u001b[0;34m]\u001b[0m\u001b[0;34m)\u001b[0m\u001b[0;34m\u001b[0m\u001b[0;34m\u001b[0m\u001b[0m\n\u001b[0m\u001b[1;32m     22\u001b[0m     \u001b[0;32melse\u001b[0m \u001b[0;34m:\u001b[0m\u001b[0;34m\u001b[0m\u001b[0;34m\u001b[0m\u001b[0m\n\u001b[1;32m     23\u001b[0m         \u001b[0mprint\u001b[0m\u001b[0;34m(\u001b[0m\u001b[0;34m\"Filename already used\"\u001b[0m\u001b[0;34m)\u001b[0m\u001b[0;34m\u001b[0m\u001b[0;34m\u001b[0m\u001b[0m\n",
      "\u001b[0;32m~/anaconda3/lib/python3.6/subprocess.py\u001b[0m in \u001b[0;36mcall\u001b[0;34m(timeout, *popenargs, **kwargs)\u001b[0m\n\u001b[1;32m    285\u001b[0m     \u001b[0mretcode\u001b[0m \u001b[0;34m=\u001b[0m \u001b[0mcall\u001b[0m\u001b[0;34m(\u001b[0m\u001b[0;34m[\u001b[0m\u001b[0;34m\"ls\"\u001b[0m\u001b[0;34m,\u001b[0m \u001b[0;34m\"-l\"\u001b[0m\u001b[0;34m]\u001b[0m\u001b[0;34m)\u001b[0m\u001b[0;34m\u001b[0m\u001b[0;34m\u001b[0m\u001b[0m\n\u001b[1;32m    286\u001b[0m     \"\"\"\n\u001b[0;32m--> 287\u001b[0;31m     \u001b[0;32mwith\u001b[0m \u001b[0mPopen\u001b[0m\u001b[0;34m(\u001b[0m\u001b[0;34m*\u001b[0m\u001b[0mpopenargs\u001b[0m\u001b[0;34m,\u001b[0m \u001b[0;34m**\u001b[0m\u001b[0mkwargs\u001b[0m\u001b[0;34m)\u001b[0m \u001b[0;32mas\u001b[0m \u001b[0mp\u001b[0m\u001b[0;34m:\u001b[0m\u001b[0;34m\u001b[0m\u001b[0;34m\u001b[0m\u001b[0m\n\u001b[0m\u001b[1;32m    288\u001b[0m         \u001b[0;32mtry\u001b[0m\u001b[0;34m:\u001b[0m\u001b[0;34m\u001b[0m\u001b[0;34m\u001b[0m\u001b[0m\n\u001b[1;32m    289\u001b[0m             \u001b[0;32mreturn\u001b[0m \u001b[0mp\u001b[0m\u001b[0;34m.\u001b[0m\u001b[0mwait\u001b[0m\u001b[0;34m(\u001b[0m\u001b[0mtimeout\u001b[0m\u001b[0;34m=\u001b[0m\u001b[0mtimeout\u001b[0m\u001b[0;34m)\u001b[0m\u001b[0;34m\u001b[0m\u001b[0;34m\u001b[0m\u001b[0m\n",
      "\u001b[0;32m~/anaconda3/lib/python3.6/subprocess.py\u001b[0m in \u001b[0;36m__init__\u001b[0;34m(self, args, bufsize, executable, stdin, stdout, stderr, preexec_fn, close_fds, shell, cwd, env, universal_newlines, startupinfo, creationflags, restore_signals, start_new_session, pass_fds, encoding, errors)\u001b[0m\n\u001b[1;32m    727\u001b[0m                                 \u001b[0mc2pread\u001b[0m\u001b[0;34m,\u001b[0m \u001b[0mc2pwrite\u001b[0m\u001b[0;34m,\u001b[0m\u001b[0;34m\u001b[0m\u001b[0;34m\u001b[0m\u001b[0m\n\u001b[1;32m    728\u001b[0m                                 \u001b[0merrread\u001b[0m\u001b[0;34m,\u001b[0m \u001b[0merrwrite\u001b[0m\u001b[0;34m,\u001b[0m\u001b[0;34m\u001b[0m\u001b[0;34m\u001b[0m\u001b[0m\n\u001b[0;32m--> 729\u001b[0;31m                                 restore_signals, start_new_session)\n\u001b[0m\u001b[1;32m    730\u001b[0m         \u001b[0;32mexcept\u001b[0m\u001b[0;34m:\u001b[0m\u001b[0;34m\u001b[0m\u001b[0;34m\u001b[0m\u001b[0m\n\u001b[1;32m    731\u001b[0m             \u001b[0;31m# Cleanup if the child failed starting.\u001b[0m\u001b[0;34m\u001b[0m\u001b[0;34m\u001b[0m\u001b[0;34m\u001b[0m\u001b[0m\n",
      "\u001b[0;32m~/anaconda3/lib/python3.6/subprocess.py\u001b[0m in \u001b[0;36m_execute_child\u001b[0;34m(self, args, executable, preexec_fn, close_fds, pass_fds, cwd, env, startupinfo, creationflags, shell, p2cread, p2cwrite, c2pread, c2pwrite, errread, errwrite, restore_signals, start_new_session)\u001b[0m\n\u001b[1;32m   1362\u001b[0m                         \u001b[0;32mif\u001b[0m \u001b[0merrno_num\u001b[0m \u001b[0;34m==\u001b[0m \u001b[0merrno\u001b[0m\u001b[0;34m.\u001b[0m\u001b[0mENOENT\u001b[0m\u001b[0;34m:\u001b[0m\u001b[0;34m\u001b[0m\u001b[0;34m\u001b[0m\u001b[0m\n\u001b[1;32m   1363\u001b[0m                             \u001b[0merr_msg\u001b[0m \u001b[0;34m+=\u001b[0m \u001b[0;34m': '\u001b[0m \u001b[0;34m+\u001b[0m \u001b[0mrepr\u001b[0m\u001b[0;34m(\u001b[0m\u001b[0merr_filename\u001b[0m\u001b[0;34m)\u001b[0m\u001b[0;34m\u001b[0m\u001b[0;34m\u001b[0m\u001b[0m\n\u001b[0;32m-> 1364\u001b[0;31m                     \u001b[0;32mraise\u001b[0m \u001b[0mchild_exception_type\u001b[0m\u001b[0;34m(\u001b[0m\u001b[0merrno_num\u001b[0m\u001b[0;34m,\u001b[0m \u001b[0merr_msg\u001b[0m\u001b[0;34m,\u001b[0m \u001b[0merr_filename\u001b[0m\u001b[0;34m)\u001b[0m\u001b[0;34m\u001b[0m\u001b[0;34m\u001b[0m\u001b[0m\n\u001b[0m\u001b[1;32m   1365\u001b[0m                 \u001b[0;32mraise\u001b[0m \u001b[0mchild_exception_type\u001b[0m\u001b[0;34m(\u001b[0m\u001b[0merr_msg\u001b[0m\u001b[0;34m)\u001b[0m\u001b[0;34m\u001b[0m\u001b[0;34m\u001b[0m\u001b[0m\n\u001b[1;32m   1366\u001b[0m \u001b[0;34m\u001b[0m\u001b[0m\n",
      "\u001b[0;31mFileNotFoundError\u001b[0m: [Errno 2] No such file or directory: 'dot': 'dot'"
     ]
    }
   ],
   "source": [
    "show(clf,\"No_over\")"
   ]
  },
  {
   "cell_type": "code",
   "execution_count": 44,
   "metadata": {},
   "outputs": [
    {
     "data": {
      "text/plain": [
       "0.9333333333333333"
      ]
     },
     "execution_count": 44,
     "metadata": {},
     "output_type": "execute_result"
    }
   ],
   "source": [
    "clf.score(test_feat, test_target)"
   ]
  },
  {
   "cell_type": "code",
   "execution_count": 45,
   "metadata": {
    "collapsed": true
   },
   "outputs": [],
   "source": [
    "score_list = []\n",
    "for i in range(100):\n",
    "    clf = ensemble.BaggingClassifier(tree.DecisionTreeClassifier(random_state=seed), n_estimators=i+1)\n",
    "    clf.fit(train_feat,train_target)\n",
    "    score_list.append(clf.score(test_feat, test_target))"
   ]
  },
  {
   "cell_type": "code",
   "execution_count": 46,
   "metadata": {},
   "outputs": [
    {
     "data": {
      "image/png": "[encoded data removed]",
      "text/plain": [
       "<matplotlib.figure.Figure at 0x7f39142589b0>"
      ]
     },
     "metadata": {},
     "output_type": "display_data"
    }
   ],
   "source": [
    "plt.plot(score_list)\n",
    "plt.show()"
   ]
  },
  {
   "cell_type": "code",
   "execution_count": 47,
   "metadata": {},
   "outputs": [
    {
     "name": "stderr",
     "output_type": "stream",
     "text": [
      "/home/osilab1/anaconda3/lib/python3.6/site-packages/sklearn/model_selection/_split.py:2026: FutureWarning: From version 0.21, test_size will always complement train_size unless both are specified.\n",
      "  FutureWarning)\n"
     ]
    }
   ],
   "source": [
    "train_feat, test_feat, train_target, test_target = model_selection.train_test_split(load_digits().data, load_digits().target, train_size = 0.7)"
   ]
  },
  {
   "cell_type": "code",
   "execution_count": 48,
   "metadata": {
    "collapsed": true
   },
   "outputs": [],
   "source": [
    "bagging_score_list = []\n",
    "forest_score_list = []\n",
    "for i in range(100):\n",
    "    bagging_clf = ensemble.BaggingClassifier(tree.DecisionTreeClassifier(random_state=seed), n_estimators=i+1)\n",
    "    bagging_clf.fit(train_feat,train_target)\n",
    "    bagging_score_list.append(bagging_clf.score(test_feat, test_target))\n",
    "    \n",
    "    forest_classifier = ensemble.RandomForestClassifier(n_estimators=(i+1))\n",
    "    forest_classifier.fit(train_feat,train_target)\n",
    "    forest_score_list.append(forest_classifier.score(test_feat, test_target))\n",
    "    "
   ]
  },
  {
   "cell_type": "code",
   "execution_count": 49,
   "metadata": {
    "collapsed": true
   },
   "outputs": [],
   "source": [
    "\n",
    "plt.show()"
   ]
  },
  {
   "cell_type": "code",
   "execution_count": 50,
   "metadata": {},
   "outputs": [
    {
     "data": {
      "image/png": "[encoded data removed]",
      "text/plain": [
       "<matplotlib.figure.Figure at 0x7f39122fb160>"
      ]
     },
     "metadata": {},
     "output_type": "display_data"
    }
   ],
   "source": [
    "plt.plot(forest_score_list)\n",
    "plt.plot(bagging_score_list)\n",
    "plt.show()"
   ]
  },
  {
   "cell_type": "code",
   "execution_count": null,
   "metadata": {
    "collapsed": true
   },
   "outputs": [],
   "source": []
  }
 ],
 "metadata": {
  "kernelspec": {
   "display_name": "Python 3",
   "language": "python",
   "name": "python3"
  },
  "language_info": {
   "codemirror_mode": {
    "name": "ipython",
    "version": 3
   },
   "file_extension": ".py",
   "mimetype": "text/x-python",
   "name": "python",
   "nbconvert_exporter": "python",
   "pygments_lexer": "ipython3",
   "version": "3.6.8"
  }
 },
 "nbformat": 4,
 "nbformat_minor": 2
}
